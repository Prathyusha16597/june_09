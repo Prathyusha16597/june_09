{
 "cells": [
  {
   "cell_type": "code",
   "execution_count": 12,
   "id": "4954505c",
   "metadata": {},
   "outputs": [],
   "source": [
    "import boto3,os"
   ]
  },
  {
   "cell_type": "code",
   "execution_count": 2,
   "id": "e4d29ad4",
   "metadata": {},
   "outputs": [],
   "source": [
    "import pandas as pd"
   ]
  },
  {
   "cell_type": "code",
   "execution_count": 3,
   "id": "63c29ebf",
   "metadata": {},
   "outputs": [],
   "source": [
    "#client access creation\n",
    "s3client=boto3.client(\"s3\")"
   ]
  },
  {
   "cell_type": "code",
   "execution_count": 5,
   "id": "8d4a4091",
   "metadata": {},
   "outputs": [],
   "source": [
    "# resource access creation\n",
    "s3=boto3.resource(\"s3\")"
   ]
  },
  {
   "cell_type": "code",
   "execution_count": 20,
   "id": "af260fe6",
   "metadata": {},
   "outputs": [],
   "source": [
    "# create a bucucket in using python\n",
    "bucket=s3.create_bucket(Bucket=\"aroha1prathyusha\",CreateBucketConfiguration={'LocationConstraint':'ap-south-1'})"
   ]
  },
  {
   "cell_type": "code",
   "execution_count": 21,
   "id": "7ef37c8a",
   "metadata": {},
   "outputs": [
    {
     "name": "stdout",
     "output_type": "stream",
     "text": [
      "s3.Bucket(name='aroha1prathyusha')\n",
      "s3.Bucket(name='arohaprathyusha')\n"
     ]
    }
   ],
   "source": [
    "# printing bucket or view  the bucket names\n",
    "for bucket in s3.buckets.all():\n",
    "    print(bucket)"
   ]
  },
  {
   "cell_type": "code",
   "execution_count": 13,
   "id": "114a9997",
   "metadata": {},
   "outputs": [
    {
     "name": "stdout",
     "output_type": "stream",
     "text": [
      "arohaprathyusha\\june_07_pandas.ipynb\n"
     ]
    }
   ],
   "source": [
    "# view the path and files\n",
    "for bucket in s3.buckets.all():\n",
    "    for obj in bucket.objects.all():\n",
    "        print(os.path.join(obj.bucket_name,obj.key))"
   ]
  },
  {
   "cell_type": "code",
   "execution_count": 14,
   "id": "e0494507",
   "metadata": {},
   "outputs": [
    {
     "data": {
      "text/plain": [
       "{'ResponseMetadata': {'RequestId': 'SBT76GF87H9CVZJ0',\n",
       "  'HostId': 'XNdDT0N0MWiDLhj0OGNzC6jmt6vLkqno9SYiQKD2JslMyYRkiIMSuZKsv58/p6mTy6HB+sEpWh4=',\n",
       "  'HTTPStatusCode': 204,\n",
       "  'HTTPHeaders': {'x-amz-id-2': 'XNdDT0N0MWiDLhj0OGNzC6jmt6vLkqno9SYiQKD2JslMyYRkiIMSuZKsv58/p6mTy6HB+sEpWh4=',\n",
       "   'x-amz-request-id': 'SBT76GF87H9CVZJ0',\n",
       "   'date': 'Thu, 09 Jun 2022 06:28:13 GMT',\n",
       "   'server': 'AmazonS3'},\n",
       "  'RetryAttempts': 0}}"
      ]
     },
     "execution_count": 14,
     "metadata": {},
     "output_type": "execute_result"
    }
   ],
   "source": [
    "# delect the s3 bucket\n",
    "bucket=s3.Bucket(\"example-prathydemo-3\")\n",
    "for key in bucket.objects.all():\n",
    "    key.delete()\n",
    "bucket.delete()"
   ]
  },
  {
   "cell_type": "code",
   "execution_count": 15,
   "id": "1dfc0f61",
   "metadata": {},
   "outputs": [
    {
     "name": "stdout",
     "output_type": "stream",
     "text": [
      "s3.Bucket(name='arohaprathyusha')\n"
     ]
    }
   ],
   "source": [
    "for bucket in s3.buckets.all():\n",
    "    print(bucket)"
   ]
  },
  {
   "cell_type": "code",
   "execution_count": 22,
   "id": "a6087bf5",
   "metadata": {},
   "outputs": [],
   "source": [
    "# access the file using python\n",
    "obj=s3client.get_object(Bucket='arohaprathyusha',Key='june_07_pandas.ipynb')"
   ]
  },
  {
   "cell_type": "code",
   "execution_count": 28,
   "id": "f6740a28",
   "metadata": {},
   "outputs": [
    {
     "data": {
      "text/plain": [
       "{'ResponseMetadata': {'RequestId': 'KC5TWM550T9VTNCF',\n",
       "  'HostId': '9GCIRaO8TIutMIY3H9AZYyDTOjinMeeI472mRy+GXwq0uuwrtkUcsFhNolDmiolRXl0FRVbIJzw=',\n",
       "  'HTTPStatusCode': 200,\n",
       "  'HTTPHeaders': {'x-amz-id-2': '9GCIRaO8TIutMIY3H9AZYyDTOjinMeeI472mRy+GXwq0uuwrtkUcsFhNolDmiolRXl0FRVbIJzw=',\n",
       "   'x-amz-request-id': 'KC5TWM550T9VTNCF',\n",
       "   'date': 'Thu, 09 Jun 2022 06:57:42 GMT',\n",
       "   'last-modified': 'Thu, 09 Jun 2022 05:55:40 GMT',\n",
       "   'etag': '\"9b7259a627666902f52bece18b6c22d6\"',\n",
       "   'accept-ranges': 'bytes',\n",
       "   'content-type': 'binary/octet-stream',\n",
       "   'server': 'AmazonS3',\n",
       "   'content-length': '153973'},\n",
       "  'RetryAttempts': 0},\n",
       " 'AcceptRanges': 'bytes',\n",
       " 'LastModified': datetime.datetime(2022, 6, 9, 5, 55, 40, tzinfo=tzutc()),\n",
       " 'ContentLength': 153973,\n",
       " 'ETag': '\"9b7259a627666902f52bece18b6c22d6\"',\n",
       " 'ContentType': 'binary/octet-stream',\n",
       " 'Metadata': {},\n",
       " 'Body': <botocore.response.StreamingBody at 0x1e3a700b250>}"
      ]
     },
     "execution_count": 28,
     "metadata": {},
     "output_type": "execute_result"
    }
   ],
   "source": [
    "obj"
   ]
  },
  {
   "cell_type": "code",
   "execution_count": 27,
   "id": "3df8e6f7",
   "metadata": {},
   "outputs": [],
   "source": [
    "# uploading the file  (jupyter file)\n",
    "s3.meta.client.upload_file(\"may_16.ipynb\",\"aroha1prathyusha\",\"may_16.ipynb\")"
   ]
  },
  {
   "cell_type": "code",
   "execution_count": 30,
   "id": "fe3cab03",
   "metadata": {},
   "outputs": [],
   "source": [
    "# uploading the csv file \n",
    "up=s3.meta.client.upload_file(\"wethear.csv\",\"aroha1prathyusha\",\"wethear.csv\")"
   ]
  },
  {
   "cell_type": "code",
   "execution_count": 32,
   "id": "588919f9",
   "metadata": {},
   "outputs": [],
   "source": [
    "# access the csv file\n",
    "obj=s3client.get_object(Bucket='aroha1prathyusha',Key='wethear.csv')"
   ]
  },
  {
   "cell_type": "code",
   "execution_count": 35,
   "id": "96999e7c",
   "metadata": {},
   "outputs": [
    {
     "data": {
      "text/html": [
       "<div>\n",
       "<style scoped>\n",
       "    .dataframe tbody tr th:only-of-type {\n",
       "        vertical-align: middle;\n",
       "    }\n",
       "\n",
       "    .dataframe tbody tr th {\n",
       "        vertical-align: top;\n",
       "    }\n",
       "\n",
       "    .dataframe thead th {\n",
       "        text-align: right;\n",
       "    }\n",
       "</style>\n",
       "<table border=\"1\" class=\"dataframe\">\n",
       "  <thead>\n",
       "    <tr style=\"text-align: right;\">\n",
       "      <th></th>\n",
       "      <th>day</th>\n",
       "      <th>temperature</th>\n",
       "      <th>windsspeed</th>\n",
       "      <th>event</th>\n",
       "    </tr>\n",
       "  </thead>\n",
       "  <tbody>\n",
       "    <tr>\n",
       "      <th>0</th>\n",
       "      <td>1/1/2017</td>\n",
       "      <td>32.0</td>\n",
       "      <td>6.0</td>\n",
       "      <td>rain</td>\n",
       "    </tr>\n",
       "    <tr>\n",
       "      <th>1</th>\n",
       "      <td>1/4/2017</td>\n",
       "      <td>NaN</td>\n",
       "      <td>9.0</td>\n",
       "      <td>sunny</td>\n",
       "    </tr>\n",
       "    <tr>\n",
       "      <th>2</th>\n",
       "      <td>1/5/2017</td>\n",
       "      <td>28.0</td>\n",
       "      <td>NaN</td>\n",
       "      <td>snow</td>\n",
       "    </tr>\n",
       "    <tr>\n",
       "      <th>3</th>\n",
       "      <td>1/6/2017</td>\n",
       "      <td>NaN</td>\n",
       "      <td>7.0</td>\n",
       "      <td>NaN</td>\n",
       "    </tr>\n",
       "    <tr>\n",
       "      <th>4</th>\n",
       "      <td>1/7/2017</td>\n",
       "      <td>32.0</td>\n",
       "      <td>NaN</td>\n",
       "      <td>rain</td>\n",
       "    </tr>\n",
       "    <tr>\n",
       "      <th>5</th>\n",
       "      <td>1/8/2017</td>\n",
       "      <td>NaN</td>\n",
       "      <td>NaN</td>\n",
       "      <td>sunny</td>\n",
       "    </tr>\n",
       "    <tr>\n",
       "      <th>6</th>\n",
       "      <td>1/9/2017</td>\n",
       "      <td>NaN</td>\n",
       "      <td>NaN</td>\n",
       "      <td>NaN</td>\n",
       "    </tr>\n",
       "    <tr>\n",
       "      <th>7</th>\n",
       "      <td>1/10/2017</td>\n",
       "      <td>34.0</td>\n",
       "      <td>8.0</td>\n",
       "      <td>cloudy</td>\n",
       "    </tr>\n",
       "    <tr>\n",
       "      <th>8</th>\n",
       "      <td>1/11/2017</td>\n",
       "      <td>40.0</td>\n",
       "      <td>12.0</td>\n",
       "      <td>sunny</td>\n",
       "    </tr>\n",
       "  </tbody>\n",
       "</table>\n",
       "</div>"
      ],
      "text/plain": [
       "         day  temperature  windsspeed   event\n",
       "0   1/1/2017         32.0         6.0    rain\n",
       "1   1/4/2017          NaN         9.0   sunny\n",
       "2   1/5/2017         28.0         NaN    snow\n",
       "3   1/6/2017          NaN         7.0     NaN\n",
       "4   1/7/2017         32.0         NaN    rain\n",
       "5   1/8/2017          NaN         NaN   sunny\n",
       "6   1/9/2017          NaN         NaN     NaN\n",
       "7  1/10/2017         34.0         8.0  cloudy\n",
       "8  1/11/2017         40.0        12.0   sunny"
      ]
     },
     "execution_count": 35,
     "metadata": {},
     "output_type": "execute_result"
    }
   ],
   "source": [
    "# read the csv file\n",
    "pd.read_csv(\"wethear.csv\")"
   ]
  },
  {
   "cell_type": "code",
   "execution_count": null,
   "id": "8cbd5de4",
   "metadata": {},
   "outputs": [],
   "source": []
  }
 ],
 "metadata": {
  "kernelspec": {
   "display_name": "Python 3",
   "language": "python",
   "name": "python3"
  },
  "language_info": {
   "codemirror_mode": {
    "name": "ipython",
    "version": 3
   },
   "file_extension": ".py",
   "mimetype": "text/x-python",
   "name": "python",
   "nbconvert_exporter": "python",
   "pygments_lexer": "ipython3",
   "version": "3.8.8"
  }
 },
 "nbformat": 4,
 "nbformat_minor": 5
}
